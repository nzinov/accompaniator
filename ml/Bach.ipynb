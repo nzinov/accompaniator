{
 "cells": [
  {
   "cell_type": "code",
   "execution_count": 1,
   "metadata": {},
   "outputs": [
    {
     "name": "stderr",
     "output_type": "stream",
     "text": [
      "/home/sharik/.pyenv/versions/3.6.0/lib/python3.6/site-packages/sklearn/cross_validation.py:41: DeprecationWarning: This module was deprecated in version 0.18 in favor of the model_selection module into which all the refactored classes and functions are moved. Also note that the interface of the new CV iterators are different from that of this module. This module will be removed in 0.20.\n",
      "  \"This module will be removed in 0.20.\", DeprecationWarning)\n",
      "Using TensorFlow backend.\n"
     ]
    }
   ],
   "source": [
    "import pickle\n",
    "import structures\n",
    "import numpy as np\n",
    "\n",
    "%matplotlib inline\n",
    "import matplotlib.pyplot as plt\n",
    "import seaborn as sns\n",
    "\n",
    "from sklearn.cross_validation import train_test_split\n",
    "from sklearn.linear_model import LogisticRegressionCV\n",
    "\n",
    "from keras.layers import LSTM\n",
    "from keras.layers import Embedding\n",
    "from keras.optimizers import RMSprop\n",
    "\n",
    "\n",
    "from keras.models import Sequential\n",
    "from keras.layers.core import Dense, Activation\n",
    "from keras.utils import np_utils\n",
    "\n",
    "from sklearn.metrics import accuracy_score\n",
    "\n",
    "\n",
    "import keras\n",
    "from keras.utils import to_categorical\n",
    "\n",
    "from matplotlib import pyplot as plt\n",
    "from IPython.display import clear_output"
   ]
  },
  {
   "cell_type": "code",
   "execution_count": 2,
   "metadata": {},
   "outputs": [
    {
     "name": "stdout",
     "output_type": "stream",
     "text": [
      "<class 'structures.Song'>\n"
     ]
    }
   ],
   "source": [
    "Songs = pickle.load(open(\"bach.pickle\", \"rb\"))\n",
    "\n",
    "print(type(Songs[0]))"
   ]
  },
  {
   "cell_type": "code",
   "execution_count": 3,
   "metadata": {},
   "outputs": [],
   "source": [
    "all_chords = []\n",
    "max_len = 0"
   ]
  },
  {
   "cell_type": "code",
   "execution_count": 4,
   "metadata": {},
   "outputs": [],
   "source": [
    "for song in Songs:\n",
    "    for track in song.tracks:\n",
    "        for chord in track.chords: \n",
    "            new_chord = np.zeros(5-len(chord.notes))\n",
    "            new_chord = np.append(np.array([note.number for note in chord.notes]), new_chord)\n",
    "          #  print(new_chord)\n",
    "            all_chords.append(new_chord)"
   ]
  },
  {
   "cell_type": "code",
   "execution_count": 5,
   "metadata": {},
   "outputs": [],
   "source": [
    "from collections import Counter"
   ]
  },
  {
   "cell_type": "code",
   "execution_count": 6,
   "metadata": {},
   "outputs": [
    {
     "name": "stdout",
     "output_type": "stream",
     "text": [
      "5665\n"
     ]
    }
   ],
   "source": [
    "print(len(all_chords))"
   ]
  },
  {
   "cell_type": "code",
   "execution_count": 7,
   "metadata": {
    "scrolled": false
   },
   "outputs": [],
   "source": [
    "\n",
    "unique_chords = np.unique(all_chords, axis=0)"
   ]
  },
  {
   "cell_type": "code",
   "execution_count": 8,
   "metadata": {},
   "outputs": [
    {
     "name": "stdout",
     "output_type": "stream",
     "text": [
      "[[22. 23. 25. 29.  0.]\n",
      " [22. 23. 25. 30.  0.]\n",
      " [22. 23. 26. 31.  0.]\n",
      " ...\n",
      " [29. 31. 33.  0.  0.]\n",
      " [29. 32.  0.  0.  0.]\n",
      " [29. 33.  0.  0.  0.]]\n"
     ]
    }
   ],
   "source": [
    "print(unique_chords)"
   ]
  },
  {
   "cell_type": "code",
   "execution_count": 9,
   "metadata": {},
   "outputs": [
    {
     "name": "stdout",
     "output_type": "stream",
     "text": [
      "325\n"
     ]
    }
   ],
   "source": [
    "size = len(unique_chords)\n",
    "unique_chords = list(unique_chords)\n",
    "coded_chords = []\n",
    "\n",
    "\n",
    "print(size)"
   ]
  },
  {
   "cell_type": "code",
   "execution_count": 10,
   "metadata": {},
   "outputs": [],
   "source": [
    "for chord in all_chords:\n",
    "    for i, unique_chord in enumerate(unique_chords):\n",
    "        if np.array_equal(chord, unique_chord):\n",
    "            coded_chords.append(i)"
   ]
  },
  {
   "cell_type": "code",
   "execution_count": 11,
   "metadata": {},
   "outputs": [
    {
     "name": "stdout",
     "output_type": "stream",
     "text": [
      "5665\n"
     ]
    }
   ],
   "source": [
    "print(len(coded_chords))"
   ]
  },
  {
   "cell_type": "code",
   "execution_count": 12,
   "metadata": {},
   "outputs": [
    {
     "name": "stdout",
     "output_type": "stream",
     "text": [
      "79\n"
     ]
    }
   ],
   "source": [
    "remove_indexes = []\n",
    "\n",
    "for i, frec in enumerate(Counter(coded_chords).values()):\n",
    "    if frec == 1:\n",
    "        remove_indexes.append(i)\n",
    "        \n",
    "print(len(remove_indexes))"
   ]
  },
  {
   "cell_type": "code",
   "execution_count": 13,
   "metadata": {},
   "outputs": [
    {
     "name": "stdout",
     "output_type": "stream",
     "text": [
      "[[22. 23. 27. 30.  0.]\n",
      " [22. 23. 27. 32.  0.]\n",
      " [22. 24. 25. 29.  0.]\n",
      " ...\n",
      " [29. 31.  0.  0.  0.]\n",
      " [29. 32.  0.  0.  0.]\n",
      " [29. 33.  0.  0.  0.]]\n"
     ]
    }
   ],
   "source": [
    "unique_chords = np.delete(unique_chords, remove_indexes, axis=0)\n",
    "#coded_chords = np.delete(coded_chords, remove_indexes)\n",
    "\n",
    "print(unique_chords)"
   ]
  },
  {
   "cell_type": "code",
   "execution_count": 14,
   "metadata": {},
   "outputs": [
    {
     "name": "stdout",
     "output_type": "stream",
     "text": [
      "246\n"
     ]
    }
   ],
   "source": [
    "size = len(unique_chords)\n",
    "coded_chords = []\n",
    "\n",
    "print(size)"
   ]
  },
  {
   "cell_type": "code",
   "execution_count": 15,
   "metadata": {},
   "outputs": [],
   "source": [
    "for chord in all_chords:\n",
    "    for i, unique_chord in enumerate(unique_chords):\n",
    "        if np.array_equal(chord, unique_chord):\n",
    "            coded_chords.append(i)"
   ]
  },
  {
   "cell_type": "code",
   "execution_count": 16,
   "metadata": {},
   "outputs": [
    {
     "name": "stdout",
     "output_type": "stream",
     "text": [
      "5586\n"
     ]
    }
   ],
   "source": [
    "print(len(coded_chords))"
   ]
  },
  {
   "cell_type": "code",
   "execution_count": 17,
   "metadata": {},
   "outputs": [],
   "source": [
    "old_chords = all_chords\n",
    "all_chords = []"
   ]
  },
  {
   "cell_type": "code",
   "execution_count": 18,
   "metadata": {},
   "outputs": [],
   "source": [
    "for chord in old_chords:\n",
    "    for unique_chord in unique_chords:\n",
    "        if np.array_equal(chord, unique_chord):\n",
    "            all_chords.append(chord)"
   ]
  },
  {
   "cell_type": "code",
   "execution_count": 19,
   "metadata": {},
   "outputs": [
    {
     "name": "stdout",
     "output_type": "stream",
     "text": [
      "5586\n"
     ]
    }
   ],
   "source": [
    "print(len(all_chords))"
   ]
  },
  {
   "cell_type": "code",
   "execution_count": 20,
   "metadata": {},
   "outputs": [
    {
     "data": {
      "text/plain": [
       "798.0"
      ]
     },
     "execution_count": 20,
     "metadata": {},
     "output_type": "execute_result"
    }
   ],
   "source": [
    "5586 / 7"
   ]
  },
  {
   "cell_type": "code",
   "execution_count": 21,
   "metadata": {},
   "outputs": [],
   "source": [
    "data = [coded_chords[i:i + 7] for i in range(0, len(coded_chords)-6, 1)]\n",
    "\n"
   ]
  },
  {
   "cell_type": "code",
   "execution_count": 22,
   "metadata": {},
   "outputs": [
    {
     "name": "stdout",
     "output_type": "stream",
     "text": [
      "(5580, 7)\n"
     ]
    }
   ],
   "source": [
    "data = np.array(data)\n",
    "data = np.reshape(data, (-1, 7))\n",
    "print(data.shape)"
   ]
  },
  {
   "cell_type": "code",
   "execution_count": 23,
   "metadata": {},
   "outputs": [
    {
     "name": "stdout",
     "output_type": "stream",
     "text": [
      "(558, 6)\n",
      "(5022, 6)\n"
     ]
    }
   ],
   "source": [
    "data = np.array(data)\n",
    "\n",
    "X = data[:,0:6]\n",
    "y = data[:,6]\n",
    "\n",
    "train_X, test_X, train_y, test_y = train_test_split(X, y, train_size=0.9, random_state=0)\n",
    "print(test_X.shape)\n",
    "print(train_X.shape)"
   ]
  },
  {
   "cell_type": "code",
   "execution_count": 26,
   "metadata": {
    "scrolled": false
   },
   "outputs": [
    {
     "name": "stdout",
     "output_type": "stream",
     "text": [
      "Train on 5022 samples, validate on 558 samples\n",
      "Epoch 1/1\n",
      " - 31s - loss: 4.7371 - acc: 0.0589 - val_loss: 4.5209 - val_acc: 0.0556\n",
      "1 1\n",
      "Train on 5022 samples, validate on 558 samples\n",
      "Epoch 1/1\n",
      " - 31s - loss: 4.6475 - acc: 0.0573 - val_loss: 4.4851 - val_acc: 0.0556\n",
      "1 2\n",
      "Train on 5022 samples, validate on 558 samples\n",
      "Epoch 1/1\n",
      " - 31s - loss: 4.6392 - acc: 0.0540 - val_loss: 4.4978 - val_acc: 0.0520\n",
      "1 3\n",
      "Train on 5022 samples, validate on 558 samples\n",
      "Epoch 1/1\n",
      " - 31s - loss: 4.6230 - acc: 0.0597 - val_loss: 4.4842 - val_acc: 0.0412\n",
      "1 4\n",
      "Train on 5022 samples, validate on 558 samples\n",
      "Epoch 1/1\n",
      " - 31s - loss: 4.6089 - acc: 0.0573 - val_loss: 4.4878 - val_acc: 0.0645\n",
      "1 5\n",
      "Train on 5022 samples, validate on 558 samples\n",
      "Epoch 1/1\n",
      " - 33s - loss: 4.6166 - acc: 0.0558 - val_loss: 4.5001 - val_acc: 0.0556\n",
      "1 6\n",
      "Train on 5022 samples, validate on 558 samples\n",
      "Epoch 1/1\n",
      " - 36s - loss: 4.6164 - acc: 0.0581 - val_loss: 4.5174 - val_acc: 0.0556\n",
      "1 7\n",
      "Train on 5022 samples, validate on 558 samples\n",
      "Epoch 1/1\n",
      " - 39s - loss: 4.6177 - acc: 0.0577 - val_loss: 4.4897 - val_acc: 0.0556\n",
      "1 8\n",
      "Train on 5022 samples, validate on 558 samples\n",
      "Epoch 1/1\n",
      " - 33s - loss: 4.6157 - acc: 0.0566 - val_loss: 4.4995 - val_acc: 0.0484\n",
      "1 9\n",
      "Train on 5022 samples, validate on 558 samples\n",
      "Epoch 1/1\n",
      " - 33s - loss: 4.7277 - acc: 0.0564 - val_loss: 4.5018 - val_acc: 0.0556\n",
      "2 1\n",
      "Train on 5022 samples, validate on 558 samples\n",
      "Epoch 1/1\n",
      " - 38s - loss: 4.6579 - acc: 0.0526 - val_loss: 4.4740 - val_acc: 0.0556\n",
      "2 2\n",
      "Train on 5022 samples, validate on 558 samples\n",
      "Epoch 1/1\n",
      " - 33s - loss: 4.6234 - acc: 0.0516 - val_loss: 4.4971 - val_acc: 0.0556\n",
      "2 3\n",
      "Train on 5022 samples, validate on 558 samples\n",
      "Epoch 1/1\n",
      " - 39s - loss: 4.6338 - acc: 0.0544 - val_loss: 4.4795 - val_acc: 0.0556\n",
      "2 4\n",
      "Train on 5022 samples, validate on 558 samples\n",
      "Epoch 1/1\n",
      " - 37s - loss: 4.6220 - acc: 0.0579 - val_loss: 4.4948 - val_acc: 0.0556\n",
      "2 5\n",
      "Train on 5022 samples, validate on 558 samples\n",
      "Epoch 1/1\n",
      " - 35s - loss: 4.6135 - acc: 0.0568 - val_loss: 4.4738 - val_acc: 0.0556\n",
      "2 6\n",
      "Train on 5022 samples, validate on 558 samples\n",
      "Epoch 1/1\n",
      " - 34s - loss: 4.6166 - acc: 0.0558 - val_loss: 4.4907 - val_acc: 0.0591\n",
      "2 7\n",
      "Train on 5022 samples, validate on 558 samples\n",
      "Epoch 1/1\n",
      " - 34s - loss: 4.6209 - acc: 0.0589 - val_loss: 4.4969 - val_acc: 0.0556\n",
      "2 8\n",
      "Train on 5022 samples, validate on 558 samples\n",
      "Epoch 1/1\n",
      " - 34s - loss: 4.6151 - acc: 0.0540 - val_loss: 4.4845 - val_acc: 0.0556\n",
      "2 9\n",
      "Train on 5022 samples, validate on 558 samples\n",
      "Epoch 1/1\n",
      " - 35s - loss: 4.7332 - acc: 0.0544 - val_loss: 4.5225 - val_acc: 0.0412\n",
      "3 1\n",
      "Train on 5022 samples, validate on 558 samples\n",
      "Epoch 1/1\n",
      " - 35s - loss: 4.6737 - acc: 0.0550 - val_loss: 4.4778 - val_acc: 0.0556\n",
      "3 2\n",
      "Train on 5022 samples, validate on 558 samples\n",
      "Epoch 1/1\n",
      " - 35s - loss: 4.6369 - acc: 0.0564 - val_loss: 4.5032 - val_acc: 0.0556\n",
      "3 3\n",
      "Train on 5022 samples, validate on 558 samples\n",
      "Epoch 1/1\n",
      " - 36s - loss: 4.6326 - acc: 0.0587 - val_loss: 4.5035 - val_acc: 0.0412\n",
      "3 4\n",
      "Train on 5022 samples, validate on 558 samples\n",
      "Epoch 1/1\n",
      " - 36s - loss: 4.6181 - acc: 0.0556 - val_loss: 4.5018 - val_acc: 0.0412\n",
      "3 5\n",
      "Train on 5022 samples, validate on 558 samples\n",
      "Epoch 1/1\n",
      " - 37s - loss: 4.6098 - acc: 0.0564 - val_loss: 4.4872 - val_acc: 0.0556\n",
      "3 6\n",
      "Train on 5022 samples, validate on 558 samples\n",
      "Epoch 1/1\n",
      " - 37s - loss: 4.6066 - acc: 0.0556 - val_loss: 4.4972 - val_acc: 0.0556\n",
      "3 7\n",
      "Train on 5022 samples, validate on 558 samples\n",
      "Epoch 1/1\n",
      " - 37s - loss: 4.6175 - acc: 0.0562 - val_loss: 4.4782 - val_acc: 0.0556\n",
      "3 8\n",
      "Train on 5022 samples, validate on 558 samples\n",
      "Epoch 1/1\n",
      " - 37s - loss: 4.6054 - acc: 0.0613 - val_loss: 4.4999 - val_acc: 0.0502\n",
      "3 9\n",
      "Train on 5022 samples, validate on 558 samples\n",
      "Epoch 1/1\n",
      " - 37s - loss: 4.7470 - acc: 0.0520 - val_loss: 4.5178 - val_acc: 0.0556\n",
      "4 1\n",
      "Train on 5022 samples, validate on 558 samples\n",
      "Epoch 1/1\n",
      " - 38s - loss: 4.6679 - acc: 0.0575 - val_loss: 4.4981 - val_acc: 0.0556\n",
      "4 2\n",
      "Train on 5022 samples, validate on 558 samples\n",
      "Epoch 1/1\n",
      " - 38s - loss: 4.6284 - acc: 0.0560 - val_loss: 4.4817 - val_acc: 0.0591\n",
      "4 3\n",
      "Train on 5022 samples, validate on 558 samples\n",
      "Epoch 1/1\n",
      " - 38s - loss: 4.6286 - acc: 0.0585 - val_loss: 4.5058 - val_acc: 0.0556\n",
      "4 4\n",
      "Train on 5022 samples, validate on 558 samples\n",
      "Epoch 1/1\n",
      " - 38s - loss: 4.6166 - acc: 0.0571 - val_loss: 4.4961 - val_acc: 0.0502\n",
      "4 5\n",
      "Train on 5022 samples, validate on 558 samples\n",
      "Epoch 1/1\n",
      " - 40s - loss: 4.6296 - acc: 0.0569 - val_loss: 4.5021 - val_acc: 0.0556\n",
      "4 6\n",
      "Train on 5022 samples, validate on 558 samples\n",
      "Epoch 1/1\n",
      " - 38s - loss: 4.6117 - acc: 0.0518 - val_loss: 4.4973 - val_acc: 0.0556\n",
      "4 7\n",
      "Train on 5022 samples, validate on 558 samples\n",
      "Epoch 1/1\n",
      " - 40s - loss: 4.6216 - acc: 0.0613 - val_loss: 4.5084 - val_acc: 0.0556\n",
      "4 8\n",
      "Train on 5022 samples, validate on 558 samples\n",
      "Epoch 1/1\n",
      " - 39s - loss: 4.6212 - acc: 0.0577 - val_loss: 4.5128 - val_acc: 0.0556\n",
      "4 9\n",
      "Train on 5022 samples, validate on 558 samples\n",
      "Epoch 1/1\n",
      " - 39s - loss: 4.7393 - acc: 0.0552 - val_loss: 4.5194 - val_acc: 0.0556\n",
      "5 1\n",
      "Train on 5022 samples, validate on 558 samples\n",
      "Epoch 1/1\n",
      " - 39s - loss: 4.6779 - acc: 0.0585 - val_loss: 4.5181 - val_acc: 0.0412\n",
      "5 2\n",
      "Train on 5022 samples, validate on 558 samples\n",
      "Epoch 1/1\n",
      " - 40s - loss: 4.6367 - acc: 0.0540 - val_loss: 4.5014 - val_acc: 0.0412\n",
      "5 3\n",
      "Train on 5022 samples, validate on 558 samples\n",
      "Epoch 1/1\n",
      " - 40s - loss: 4.6209 - acc: 0.0573 - val_loss: 4.4955 - val_acc: 0.0556\n",
      "5 4\n",
      "Train on 5022 samples, validate on 558 samples\n",
      "Epoch 1/1\n",
      " - 43s - loss: 4.6262 - acc: 0.0512 - val_loss: 4.4755 - val_acc: 0.0573\n",
      "5 5\n",
      "Train on 5022 samples, validate on 558 samples\n",
      "Epoch 1/1\n",
      " - 41s - loss: 4.6205 - acc: 0.0571 - val_loss: 4.4965 - val_acc: 0.0556\n",
      "5 6\n",
      "Train on 5022 samples, validate on 558 samples\n",
      "Epoch 1/1\n",
      " - 41s - loss: 4.6164 - acc: 0.0607 - val_loss: 4.4931 - val_acc: 0.0556\n",
      "5 7\n",
      "Train on 5022 samples, validate on 558 samples\n",
      "Epoch 1/1\n",
      " - 41s - loss: 4.6226 - acc: 0.0581 - val_loss: 4.4785 - val_acc: 0.0556\n",
      "5 8\n",
      "Train on 5022 samples, validate on 558 samples\n",
      "Epoch 1/1\n",
      " - 41s - loss: 4.6163 - acc: 0.0585 - val_loss: 4.4838 - val_acc: 0.0412\n",
      "5 9\n",
      "Train on 5022 samples, validate on 558 samples\n",
      "Epoch 1/1\n",
      " - 41s - loss: 4.7505 - acc: 0.0506 - val_loss: 4.5227 - val_acc: 0.0573\n",
      "6 1\n",
      "Train on 5022 samples, validate on 558 samples\n",
      "Epoch 1/1\n",
      " - 42s - loss: 4.6544 - acc: 0.0566 - val_loss: 4.5055 - val_acc: 0.0573\n",
      "6 2\n",
      "Train on 5022 samples, validate on 558 samples\n",
      "Epoch 1/1\n",
      " - 44s - loss: 4.6393 - acc: 0.0583 - val_loss: 4.4943 - val_acc: 0.0556\n",
      "6 3\n",
      "Train on 5022 samples, validate on 558 samples\n",
      "Epoch 1/1\n",
      " - 42s - loss: 4.6156 - acc: 0.0544 - val_loss: 4.4933 - val_acc: 0.0556\n",
      "6 4\n",
      "Train on 5022 samples, validate on 558 samples\n",
      "Epoch 1/1\n",
      " - 42s - loss: 4.6041 - acc: 0.0587 - val_loss: 4.5035 - val_acc: 0.0556\n",
      "6 5\n",
      "Train on 5022 samples, validate on 558 samples\n",
      "Epoch 1/1\n",
      " - 43s - loss: 4.6156 - acc: 0.0573 - val_loss: 4.4995 - val_acc: 0.0591\n",
      "6 6\n",
      "Train on 5022 samples, validate on 558 samples\n",
      "Epoch 1/1\n",
      " - 43s - loss: 4.5813 - acc: 0.0649 - val_loss: 4.4196 - val_acc: 0.0645\n",
      "6 7\n",
      "Train on 5022 samples, validate on 558 samples\n",
      "Epoch 1/1\n",
      " - 43s - loss: 4.6130 - acc: 0.0591 - val_loss: 4.4932 - val_acc: 0.0681\n",
      "6 8\n",
      "Train on 5022 samples, validate on 558 samples\n",
      "Epoch 1/1\n",
      " - 44s - loss: 4.6152 - acc: 0.0583 - val_loss: 4.4834 - val_acc: 0.0717\n",
      "6 9\n",
      "Train on 5022 samples, validate on 558 samples\n",
      "Epoch 1/1\n",
      " - 43s - loss: 4.7623 - acc: 0.0591 - val_loss: 4.5321 - val_acc: 0.0556\n",
      "7 1\n",
      "Train on 5022 samples, validate on 558 samples\n",
      "Epoch 1/1\n",
      " - 44s - loss: 4.6430 - acc: 0.0575 - val_loss: 4.5031 - val_acc: 0.0412\n",
      "7 2\n",
      "Train on 5022 samples, validate on 558 samples\n",
      "Epoch 1/1\n",
      " - 44s - loss: 4.6327 - acc: 0.0540 - val_loss: 4.4789 - val_acc: 0.0556\n",
      "7 3\n",
      "Train on 5022 samples, validate on 558 samples\n",
      "Epoch 1/1\n",
      " - 44s - loss: 4.6234 - acc: 0.0589 - val_loss: 4.5029 - val_acc: 0.0430\n",
      "7 4\n",
      "Train on 5022 samples, validate on 558 samples\n",
      "Epoch 1/1\n",
      " - 44s - loss: 4.6180 - acc: 0.0597 - val_loss: 4.4797 - val_acc: 0.0412\n",
      "7 5\n",
      "Train on 5022 samples, validate on 558 samples\n",
      "Epoch 1/1\n",
      " - 47s - loss: 4.6245 - acc: 0.0558 - val_loss: 4.5167 - val_acc: 0.0573\n",
      "7 6\n",
      "Train on 5022 samples, validate on 558 samples\n",
      "Epoch 1/1\n",
      " - 45s - loss: 4.6059 - acc: 0.0534 - val_loss: 4.4869 - val_acc: 0.0556\n",
      "7 7\n",
      "Train on 5022 samples, validate on 558 samples\n",
      "Epoch 1/1\n"
     ]
    },
    {
     "name": "stdout",
     "output_type": "stream",
     "text": [
      " - 46s - loss: 4.6194 - acc: 0.0554 - val_loss: 4.4810 - val_acc: 0.0556\n",
      "7 8\n",
      "Train on 5022 samples, validate on 558 samples\n",
      "Epoch 1/1\n",
      " - 46s - loss: 4.6017 - acc: 0.0566 - val_loss: 4.4975 - val_acc: 0.0412\n",
      "7 9\n",
      "Train on 5022 samples, validate on 558 samples\n",
      "Epoch 1/1\n",
      " - 45s - loss: 4.7574 - acc: 0.0575 - val_loss: 4.5144 - val_acc: 0.0556\n",
      "8 1\n",
      "Train on 5022 samples, validate on 558 samples\n",
      "Epoch 1/1\n",
      " - 46s - loss: 4.6585 - acc: 0.0560 - val_loss: 4.4979 - val_acc: 0.0556\n",
      "8 2\n",
      "Train on 5022 samples, validate on 558 samples\n",
      "Epoch 1/1\n",
      " - 46s - loss: 4.6270 - acc: 0.0577 - val_loss: 4.4982 - val_acc: 0.0430\n",
      "8 3\n",
      "Train on 5022 samples, validate on 558 samples\n",
      "Epoch 1/1\n",
      " - 47s - loss: 4.6289 - acc: 0.0526 - val_loss: 4.4946 - val_acc: 0.0609\n",
      "8 4\n",
      "Train on 5022 samples, validate on 558 samples\n",
      "Epoch 1/1\n",
      " - 47s - loss: 4.6152 - acc: 0.0536 - val_loss: 4.4760 - val_acc: 0.0591\n",
      "8 5\n",
      "Train on 5022 samples, validate on 558 samples\n",
      "Epoch 1/1\n",
      " - 47s - loss: 4.6085 - acc: 0.0568 - val_loss: 4.4785 - val_acc: 0.0484\n",
      "8 6\n",
      "Train on 5022 samples, validate on 558 samples\n",
      "Epoch 1/1\n",
      " - 48s - loss: 4.6036 - acc: 0.0603 - val_loss: 4.4729 - val_acc: 0.0466\n",
      "8 7\n",
      "Train on 5022 samples, validate on 558 samples\n",
      "Epoch 1/1\n",
      " - 47s - loss: 4.6064 - acc: 0.0581 - val_loss: 4.5377 - val_acc: 0.0609\n",
      "8 8\n",
      "Train on 5022 samples, validate on 558 samples\n",
      "Epoch 1/1\n"
     ]
    },
    {
     "name": "stderr",
     "output_type": "stream",
     "text": [
      "/usr/local/lib/python3.5/dist-packages/keras/callbacks.py:120: UserWarning: Method on_batch_end() is slow compared to the batch update (0.209294). Check your callbacks.\n",
      "  % delta_t_median)\n"
     ]
    },
    {
     "name": "stdout",
     "output_type": "stream",
     "text": [
      " - 70s - loss: 4.6116 - acc: 0.0571 - val_loss: 4.5005 - val_acc: 0.0520\n",
      "8 9\n",
      "Train on 5022 samples, validate on 558 samples\n",
      "Epoch 1/1\n",
      " - 56s - loss: 4.7468 - acc: 0.0510 - val_loss: 4.5319 - val_acc: 0.0412\n",
      "9 1\n",
      "Train on 5022 samples, validate on 558 samples\n",
      "Epoch 1/1\n",
      " - 50s - loss: 4.6669 - acc: 0.0528 - val_loss: 4.5055 - val_acc: 0.0502\n",
      "9 2\n",
      "Train on 5022 samples, validate on 558 samples\n",
      "Epoch 1/1\n",
      " - 49s - loss: 4.6385 - acc: 0.0534 - val_loss: 4.4884 - val_acc: 0.0556\n",
      "9 3\n",
      "Train on 5022 samples, validate on 558 samples\n",
      "Epoch 1/1\n",
      " - 49s - loss: 4.6163 - acc: 0.0542 - val_loss: 4.4865 - val_acc: 0.0556\n",
      "9 4\n",
      "Train on 5022 samples, validate on 558 samples\n",
      "Epoch 1/1\n",
      " - 49s - loss: 4.6210 - acc: 0.0568 - val_loss: 4.4968 - val_acc: 0.0556\n",
      "9 5\n",
      "Train on 5022 samples, validate on 558 samples\n",
      "Epoch 1/1\n",
      " - 50s - loss: 4.6197 - acc: 0.0552 - val_loss: 4.4896 - val_acc: 0.0556\n",
      "9 6\n",
      "Train on 5022 samples, validate on 558 samples\n",
      "Epoch 1/1\n",
      " - 49s - loss: 4.6063 - acc: 0.0552 - val_loss: 4.4659 - val_acc: 0.0645\n",
      "9 7\n",
      "Train on 5022 samples, validate on 558 samples\n",
      "Epoch 1/1\n",
      " - 50s - loss: 4.6259 - acc: 0.0524 - val_loss: 4.5105 - val_acc: 0.0556\n",
      "9 8\n",
      "Train on 5022 samples, validate on 558 samples\n",
      "Epoch 1/1\n",
      " - 50s - loss: 4.6103 - acc: 0.0575 - val_loss: 4.4907 - val_acc: 0.0699\n",
      "9 9\n"
     ]
    }
   ],
   "source": [
    "for i in range(1, 10):\n",
    "    for j in range(1, 10):\n",
    "        model = Sequential()\n",
    "        model.add(Embedding(size + 1, i, input_length=6))\n",
    "        model.add(LSTM(j))\n",
    "        model.add(Dense(size, activation='softmax'))\n",
    "        model.compile(optimizer='adam',loss='sparse_categorical_crossentropy',metrics=['accuracy'])\n",
    "        model.fit(train_X, train_y, epochs=1, batch_size=1, verbose=2, validation_data=(test_X, test_y));\n",
    "        print (i, j)"
   ]
  },
  {
   "cell_type": "code",
   "execution_count": null,
   "metadata": {
    "scrolled": false
   },
   "outputs": [
    {
     "name": "stdout",
     "output_type": "stream",
     "text": [
      "Train on 5022 samples, validate on 558 samples\n",
      "Epoch 1/1\n",
      " - 50s - loss: 4.6158 - acc: 0.0601 - val_loss: 4.4378 - val_acc: 0.0609\n",
      "11 11\n",
      "Train on 5022 samples, validate on 558 samples\n",
      "Epoch 1/1\n",
      " - 51s - loss: 4.5862 - acc: 0.0635 - val_loss: 4.3126 - val_acc: 0.0842\n",
      "11 12\n",
      "Train on 5022 samples, validate on 558 samples\n",
      "Epoch 1/1\n",
      " - 51s - loss: 4.6004 - acc: 0.0665 - val_loss: 4.3291 - val_acc: 0.0860\n",
      "11 13\n",
      "Train on 5022 samples, validate on 558 samples\n",
      "Epoch 1/1\n",
      " - 52s - loss: 4.5700 - acc: 0.0731 - val_loss: 4.3151 - val_acc: 0.0735\n",
      "11 14\n",
      "Train on 5022 samples, validate on 558 samples\n",
      "Epoch 1/1\n",
      " - 52s - loss: 4.6072 - acc: 0.0615 - val_loss: 4.3497 - val_acc: 0.0735\n",
      "11 15\n",
      "Train on 5022 samples, validate on 558 samples\n",
      "Epoch 1/1\n",
      " - 52s - loss: 4.5691 - acc: 0.0669 - val_loss: 4.2528 - val_acc: 0.0878\n",
      "11 16\n",
      "Train on 5022 samples, validate on 558 samples\n",
      "Epoch 1/1\n",
      " - 1216s - loss: 4.6062 - acc: 0.0635 - val_loss: 4.4208 - val_acc: 0.0824\n",
      "11 17\n",
      "Train on 5022 samples, validate on 558 samples\n",
      "Epoch 1/1\n",
      " - 58s - loss: 4.5561 - acc: 0.0715 - val_loss: 4.2968 - val_acc: 0.0806\n",
      "11 18\n",
      "Train on 5022 samples, validate on 558 samples\n",
      "Epoch 1/1\n",
      " - 58s - loss: 4.5729 - acc: 0.0669 - val_loss: 4.2220 - val_acc: 0.0896\n",
      "11 19\n",
      "Train on 5022 samples, validate on 558 samples\n",
      "Epoch 1/1\n",
      " - 54s - loss: 4.5783 - acc: 0.0589 - val_loss: 4.3688 - val_acc: 0.0591\n",
      "12 11\n",
      "Train on 5022 samples, validate on 558 samples\n",
      "Epoch 1/1\n",
      " - 54s - loss: 4.6063 - acc: 0.0613 - val_loss: 4.3724 - val_acc: 0.0753\n",
      "12 12\n",
      "Train on 5022 samples, validate on 558 samples\n",
      "Epoch 1/1\n",
      " - 54s - loss: 4.5840 - acc: 0.0633 - val_loss: 4.2904 - val_acc: 0.0896\n",
      "12 13\n",
      "Train on 5022 samples, validate on 558 samples\n",
      "Epoch 1/1\n",
      " - 55s - loss: 4.6112 - acc: 0.0583 - val_loss: 4.4756 - val_acc: 0.0502\n",
      "12 14\n",
      "Train on 5022 samples, validate on 558 samples\n",
      "Epoch 1/1\n",
      " - 54s - loss: 4.6106 - acc: 0.0615 - val_loss: 4.4320 - val_acc: 0.0663\n",
      "12 15\n",
      "Train on 5022 samples, validate on 558 samples\n",
      "Epoch 1/1\n",
      " - 54s - loss: 4.5479 - acc: 0.0695 - val_loss: 4.2485 - val_acc: 0.0896\n",
      "12 16\n",
      "Train on 5022 samples, validate on 558 samples\n",
      "Epoch 1/1\n",
      " - 55s - loss: 4.6110 - acc: 0.0611 - val_loss: 4.4164 - val_acc: 0.0806\n",
      "12 17\n",
      "Train on 5022 samples, validate on 558 samples\n",
      "Epoch 1/1\n",
      " - 55s - loss: 4.5247 - acc: 0.0802 - val_loss: 4.2231 - val_acc: 0.0860\n",
      "12 18\n",
      "Train on 5022 samples, validate on 558 samples\n",
      "Epoch 1/1\n",
      " - 56s - loss: 4.6061 - acc: 0.0635 - val_loss: 4.4149 - val_acc: 0.0789\n",
      "12 19\n",
      "Train on 5022 samples, validate on 558 samples\n",
      "Epoch 1/1\n",
      " - 56s - loss: 4.5965 - acc: 0.0550 - val_loss: 4.3807 - val_acc: 0.0753\n",
      "13 11\n",
      "Train on 5022 samples, validate on 558 samples\n",
      "Epoch 1/1\n",
      " - 55s - loss: 4.6050 - acc: 0.0613 - val_loss: 4.4655 - val_acc: 0.0645\n",
      "13 12\n",
      "Train on 5022 samples, validate on 558 samples\n",
      "Epoch 1/1\n",
      " - 55s - loss: 4.6027 - acc: 0.0623 - val_loss: 4.3851 - val_acc: 0.0645\n",
      "13 13\n",
      "Train on 5022 samples, validate on 558 samples\n",
      "Epoch 1/1\n",
      " - 56s - loss: 4.5901 - acc: 0.0703 - val_loss: 4.3616 - val_acc: 0.0735\n",
      "13 14\n",
      "Train on 5022 samples, validate on 558 samples\n",
      "Epoch 1/1\n",
      " - 56s - loss: 4.5974 - acc: 0.0562 - val_loss: 4.4708 - val_acc: 0.0412\n",
      "13 15\n",
      "Train on 5022 samples, validate on 558 samples\n",
      "Epoch 1/1\n",
      " - 57s - loss: 4.6015 - acc: 0.0562 - val_loss: 4.3884 - val_acc: 0.0824\n",
      "13 16\n",
      "Train on 5022 samples, validate on 558 samples\n",
      "Epoch 1/1\n",
      " - 57s - loss: 4.6110 - acc: 0.0569 - val_loss: 4.4685 - val_acc: 0.0556\n",
      "13 17\n",
      "Train on 5022 samples, validate on 558 samples\n",
      "Epoch 1/1\n",
      " - 57s - loss: 4.5580 - acc: 0.0695 - val_loss: 4.2671 - val_acc: 0.0914\n",
      "13 18\n",
      "Train on 5022 samples, validate on 558 samples\n",
      "Epoch 1/1\n"
     ]
    }
   ],
   "source": [
    "for i in range(11, 20):\n",
    "    for j in range(11, 20):\n",
    "        model = Sequential()\n",
    "        model.add(Embedding(size + 1, i, input_length=6))\n",
    "        model.add(LSTM(j))\n",
    "        model.add(Dense(size, activation='softmax'))\n",
    "        model.compile(optimizer='adam',loss='sparse_categorical_crossentropy',metrics=['accuracy'])\n",
    "        model.fit(train_X, train_y, epochs=1, batch_size=1, verbose=2, validation_data=(test_X, test_y));\n",
    "        print (i, j)"
   ]
  },
  {
   "cell_type": "code",
   "execution_count": 25,
   "metadata": {
    "scrolled": false
   },
   "outputs": [
    {
     "name": "stdout",
     "output_type": "stream",
     "text": [
      "Train on 5022 samples, validate on 558 samples\n",
      "Epoch 1/1\n",
      " - 34s - loss: 4.5627 - acc: 0.0667 - val_loss: 4.2181 - val_acc: 0.0950\n",
      "21 21\n",
      "Train on 5022 samples, validate on 558 samples\n",
      "Epoch 1/1\n",
      " - 35s - loss: 4.5260 - acc: 0.0765 - val_loss: 4.1930 - val_acc: 0.1004\n",
      "21 22\n",
      "Train on 5022 samples, validate on 558 samples\n",
      "Epoch 1/1\n",
      " - 35s - loss: 4.4857 - acc: 0.0783 - val_loss: 4.1343 - val_acc: 0.0968\n",
      "21 23\n",
      "Train on 5022 samples, validate on 558 samples\n",
      "Epoch 1/1\n",
      " - 35s - loss: 4.4851 - acc: 0.0812 - val_loss: 4.1343 - val_acc: 0.0914\n",
      "21 24\n",
      "Train on 5022 samples, validate on 558 samples\n",
      "Epoch 1/1\n",
      " - 36s - loss: 4.5822 - acc: 0.0611 - val_loss: 4.3339 - val_acc: 0.0753\n",
      "21 25\n",
      "Train on 5022 samples, validate on 558 samples\n",
      "Epoch 1/1\n",
      " - 36s - loss: 4.4736 - acc: 0.0802 - val_loss: 4.1273 - val_acc: 0.0896\n",
      "21 26\n",
      "Train on 5022 samples, validate on 558 samples\n",
      "Epoch 1/1\n",
      " - 36s - loss: 4.4976 - acc: 0.0751 - val_loss: 4.1283 - val_acc: 0.0932\n",
      "21 27\n",
      "Train on 5022 samples, validate on 558 samples\n",
      "Epoch 1/1\n",
      " - 37s - loss: 4.4882 - acc: 0.0753 - val_loss: 4.1140 - val_acc: 0.0950\n",
      "21 28\n",
      "Train on 5022 samples, validate on 558 samples\n",
      "Epoch 1/1\n",
      " - 37s - loss: 4.4105 - acc: 0.0878 - val_loss: 4.0947 - val_acc: 0.0914\n",
      "21 29\n",
      "Train on 5022 samples, validate on 558 samples\n",
      "Epoch 1/1\n",
      " - 37s - loss: 4.4720 - acc: 0.0870 - val_loss: 4.1271 - val_acc: 0.0932\n",
      "22 21\n",
      "Train on 5022 samples, validate on 558 samples\n",
      "Epoch 1/1\n",
      " - 37s - loss: 4.5704 - acc: 0.0669 - val_loss: 4.2892 - val_acc: 0.0878\n",
      "22 22\n",
      "Train on 5022 samples, validate on 558 samples\n",
      "Epoch 1/1\n",
      " - 37s - loss: 4.4496 - acc: 0.0816 - val_loss: 4.0836 - val_acc: 0.1129\n",
      "22 23\n",
      "Train on 5022 samples, validate on 558 samples\n",
      "Epoch 1/1\n",
      " - 37s - loss: 4.5078 - acc: 0.0693 - val_loss: 4.1453 - val_acc: 0.0842\n",
      "22 24\n",
      "Train on 5022 samples, validate on 558 samples\n",
      "Epoch 1/1\n",
      " - 38s - loss: 4.4769 - acc: 0.0842 - val_loss: 4.0868 - val_acc: 0.1039\n",
      "22 25\n",
      "Train on 5022 samples, validate on 558 samples\n",
      "Epoch 1/1\n",
      " - 38s - loss: 4.5156 - acc: 0.0777 - val_loss: 4.1239 - val_acc: 0.0968\n",
      "22 26\n",
      "Train on 5022 samples, validate on 558 samples\n",
      "Epoch 1/1\n",
      " - 39s - loss: 4.4534 - acc: 0.0840 - val_loss: 4.1264 - val_acc: 0.0950\n",
      "22 27\n",
      "Train on 5022 samples, validate on 558 samples\n",
      "Epoch 1/1\n",
      " - 40s - loss: 4.4494 - acc: 0.0896 - val_loss: 4.0459 - val_acc: 0.0824\n",
      "22 28\n",
      "Train on 5022 samples, validate on 558 samples\n",
      "Epoch 1/1\n",
      " - 39s - loss: 4.4957 - acc: 0.0793 - val_loss: 4.1075 - val_acc: 0.0932\n",
      "22 29\n",
      "Train on 5022 samples, validate on 558 samples\n",
      "Epoch 1/1\n",
      " - 39s - loss: 4.5106 - acc: 0.0751 - val_loss: 4.1317 - val_acc: 0.0842\n",
      "23 21\n",
      "Train on 5022 samples, validate on 558 samples\n",
      "Epoch 1/1\n",
      " - 39s - loss: 4.4230 - acc: 0.0850 - val_loss: 4.1052 - val_acc: 0.0968\n",
      "23 22\n",
      "Train on 5022 samples, validate on 558 samples\n",
      "Epoch 1/1\n",
      " - 39s - loss: 4.4744 - acc: 0.0834 - val_loss: 4.1419 - val_acc: 0.0914\n",
      "23 23\n",
      "Train on 5022 samples, validate on 558 samples\n",
      "Epoch 1/1\n",
      " - 39s - loss: 4.5248 - acc: 0.0739 - val_loss: 4.1583 - val_acc: 0.0878\n",
      "23 24\n",
      "Train on 5022 samples, validate on 558 samples\n",
      "Epoch 1/1\n",
      " - 40s - loss: 4.5212 - acc: 0.0769 - val_loss: 4.1638 - val_acc: 0.1075\n",
      "23 25\n",
      "Train on 5022 samples, validate on 558 samples\n",
      "Epoch 1/1\n",
      " - 40s - loss: 4.5118 - acc: 0.0747 - val_loss: 4.1092 - val_acc: 0.1057\n",
      "23 26\n",
      "Train on 5022 samples, validate on 558 samples\n",
      "Epoch 1/1\n",
      " - 41s - loss: 4.5378 - acc: 0.0761 - val_loss: 4.1675 - val_acc: 0.0878\n",
      "23 27\n",
      "Train on 5022 samples, validate on 558 samples\n",
      "Epoch 1/1\n",
      " - 41s - loss: 4.4287 - acc: 0.0886 - val_loss: 4.0788 - val_acc: 0.1075\n",
      "23 28\n",
      "Train on 5022 samples, validate on 558 samples\n",
      "Epoch 1/1\n",
      " - 41s - loss: 4.4193 - acc: 0.0876 - val_loss: 4.0638 - val_acc: 0.1039\n",
      "23 29\n",
      "Train on 5022 samples, validate on 558 samples\n",
      "Epoch 1/1\n",
      " - 40s - loss: 4.5049 - acc: 0.0789 - val_loss: 4.1611 - val_acc: 0.0896\n",
      "24 21\n",
      "Train on 5022 samples, validate on 558 samples\n",
      "Epoch 1/1\n",
      " - 41s - loss: 4.5176 - acc: 0.0767 - val_loss: 4.2254 - val_acc: 0.1004\n",
      "24 22\n",
      "Train on 5022 samples, validate on 558 samples\n",
      "Epoch 1/1\n",
      " - 41s - loss: 4.4936 - acc: 0.0828 - val_loss: 4.1685 - val_acc: 0.0914\n",
      "24 23\n",
      "Train on 5022 samples, validate on 558 samples\n",
      "Epoch 1/1\n",
      " - 43s - loss: 4.5014 - acc: 0.0808 - val_loss: 4.0886 - val_acc: 0.1147\n",
      "24 24\n",
      "Train on 5022 samples, validate on 558 samples\n",
      "Epoch 1/1\n",
      " - 42s - loss: 4.5364 - acc: 0.0671 - val_loss: 4.1768 - val_acc: 0.0932\n",
      "24 25\n",
      "Train on 5022 samples, validate on 558 samples\n",
      "Epoch 1/1\n",
      " - 42s - loss: 4.5156 - acc: 0.0804 - val_loss: 4.1102 - val_acc: 0.0968\n",
      "24 26\n",
      "Train on 5022 samples, validate on 558 samples\n",
      "Epoch 1/1\n",
      " - 42s - loss: 4.4794 - acc: 0.0818 - val_loss: 4.1515 - val_acc: 0.0950\n",
      "24 27\n",
      "Train on 5022 samples, validate on 558 samples\n",
      "Epoch 1/1\n",
      " - 44s - loss: 4.4762 - acc: 0.0785 - val_loss: 4.1051 - val_acc: 0.0986\n",
      "24 28\n",
      "Train on 5022 samples, validate on 558 samples\n",
      "Epoch 1/1\n",
      " - 43s - loss: 4.3731 - acc: 0.0944 - val_loss: 4.0055 - val_acc: 0.1111\n",
      "24 29\n",
      "Train on 5022 samples, validate on 558 samples\n",
      "Epoch 1/1\n",
      " - 44s - loss: 4.4795 - acc: 0.0787 - val_loss: 4.1222 - val_acc: 0.0932\n",
      "25 21\n",
      "Train on 5022 samples, validate on 558 samples\n",
      "Epoch 1/1\n",
      " - 44s - loss: 4.4707 - acc: 0.0757 - val_loss: 4.1657 - val_acc: 0.0968\n",
      "25 22\n",
      "Train on 5022 samples, validate on 558 samples\n",
      "Epoch 1/1\n",
      " - 44s - loss: 4.4974 - acc: 0.0763 - val_loss: 4.1442 - val_acc: 0.0950\n",
      "25 23\n",
      "Train on 5022 samples, validate on 558 samples\n",
      "Epoch 1/1\n",
      " - 45s - loss: 4.5118 - acc: 0.0791 - val_loss: 4.1928 - val_acc: 0.0914\n",
      "25 24\n",
      "Train on 5022 samples, validate on 558 samples\n",
      "Epoch 1/1\n",
      " - 44s - loss: 4.4425 - acc: 0.0802 - val_loss: 4.0894 - val_acc: 0.0824\n",
      "25 25\n",
      "Train on 5022 samples, validate on 558 samples\n",
      "Epoch 1/1\n",
      " - 45s - loss: 4.4298 - acc: 0.0836 - val_loss: 4.0739 - val_acc: 0.0896\n",
      "25 26\n",
      "Train on 5022 samples, validate on 558 samples\n",
      "Epoch 1/1\n",
      " - 45s - loss: 4.5692 - acc: 0.0713 - val_loss: 4.2063 - val_acc: 0.1147\n",
      "25 27\n",
      "Train on 5022 samples, validate on 558 samples\n",
      "Epoch 1/1\n",
      " - 45s - loss: 4.4332 - acc: 0.0914 - val_loss: 4.1177 - val_acc: 0.1057\n",
      "25 28\n",
      "Train on 5022 samples, validate on 558 samples\n",
      "Epoch 1/1\n",
      " - 46s - loss: 4.4010 - acc: 0.0886 - val_loss: 4.0666 - val_acc: 0.1039\n",
      "25 29\n",
      "Train on 5022 samples, validate on 558 samples\n",
      "Epoch 1/1\n",
      " - 45s - loss: 4.5480 - acc: 0.0733 - val_loss: 4.2210 - val_acc: 0.0914\n",
      "26 21\n",
      "Train on 5022 samples, validate on 558 samples\n",
      "Epoch 1/1\n",
      " - 45s - loss: 4.4888 - acc: 0.0789 - val_loss: 4.1355 - val_acc: 0.1022\n",
      "26 22\n",
      "Train on 5022 samples, validate on 558 samples\n",
      "Epoch 1/1\n",
      " - 46s - loss: 4.4594 - acc: 0.0785 - val_loss: 4.1217 - val_acc: 0.0914\n",
      "26 23\n",
      "Train on 5022 samples, validate on 558 samples\n",
      "Epoch 1/1\n",
      " - 46s - loss: 4.4176 - acc: 0.0834 - val_loss: 4.0916 - val_acc: 0.1022\n",
      "26 24\n",
      "Train on 5022 samples, validate on 558 samples\n",
      "Epoch 1/1\n",
      " - 46s - loss: 4.4359 - acc: 0.0769 - val_loss: 4.0947 - val_acc: 0.0968\n",
      "26 25\n",
      "Train on 5022 samples, validate on 558 samples\n",
      "Epoch 1/1\n",
      " - 46s - loss: 4.5371 - acc: 0.0761 - val_loss: 4.1501 - val_acc: 0.0986\n",
      "26 26\n",
      "Train on 5022 samples, validate on 558 samples\n",
      "Epoch 1/1\n",
      " - 47s - loss: 4.4646 - acc: 0.0828 - val_loss: 4.1001 - val_acc: 0.1111\n",
      "26 27\n",
      "Train on 5022 samples, validate on 558 samples\n",
      "Epoch 1/1\n",
      " - 47s - loss: 4.4524 - acc: 0.0812 - val_loss: 4.0743 - val_acc: 0.0968\n",
      "26 28\n",
      "Train on 5022 samples, validate on 558 samples\n",
      "Epoch 1/1\n",
      " - 48s - loss: 4.4387 - acc: 0.0908 - val_loss: 4.0512 - val_acc: 0.1165\n",
      "26 29\n",
      "Train on 5022 samples, validate on 558 samples\n",
      "Epoch 1/1\n",
      " - 48s - loss: 4.5023 - acc: 0.0862 - val_loss: 4.2332 - val_acc: 0.0932\n",
      "27 21\n",
      "Train on 5022 samples, validate on 558 samples\n",
      "Epoch 1/1\n",
      " - 48s - loss: 4.3998 - acc: 0.0924 - val_loss: 4.1189 - val_acc: 0.0986\n",
      "27 22\n",
      "Train on 5022 samples, validate on 558 samples\n",
      "Epoch 1/1\n",
      " - 49s - loss: 4.5279 - acc: 0.0761 - val_loss: 4.1134 - val_acc: 0.1093\n",
      "27 23\n",
      "Train on 5022 samples, validate on 558 samples\n",
      "Epoch 1/1\n",
      " - 48s - loss: 4.5174 - acc: 0.0747 - val_loss: 4.1635 - val_acc: 0.0968\n",
      "27 24\n",
      "Train on 5022 samples, validate on 558 samples\n",
      "Epoch 1/1\n",
      " - 48s - loss: 4.4518 - acc: 0.0844 - val_loss: 4.0207 - val_acc: 0.1129\n",
      "27 25\n",
      "Train on 5022 samples, validate on 558 samples\n",
      "Epoch 1/1\n",
      " - 49s - loss: 4.4852 - acc: 0.0793 - val_loss: 4.0736 - val_acc: 0.1147\n",
      "27 26\n",
      "Train on 5022 samples, validate on 558 samples\n",
      "Epoch 1/1\n"
     ]
    },
    {
     "name": "stdout",
     "output_type": "stream",
     "text": [
      " - 49s - loss: 4.4580 - acc: 0.0830 - val_loss: 4.0606 - val_acc: 0.1057\n",
      "27 27\n",
      "Train on 5022 samples, validate on 558 samples\n",
      "Epoch 1/1\n",
      " - 50s - loss: 4.4850 - acc: 0.0804 - val_loss: 4.0874 - val_acc: 0.0986\n",
      "27 28\n",
      "Train on 5022 samples, validate on 558 samples\n",
      "Epoch 1/1\n",
      " - 50s - loss: 4.4075 - acc: 0.0892 - val_loss: 4.0459 - val_acc: 0.1147\n",
      "27 29\n",
      "Train on 5022 samples, validate on 558 samples\n",
      "Epoch 1/1\n",
      " - 49s - loss: 4.4495 - acc: 0.0900 - val_loss: 4.0954 - val_acc: 0.0986\n",
      "28 21\n",
      "Train on 5022 samples, validate on 558 samples\n",
      "Epoch 1/1\n",
      " - 50s - loss: 4.4357 - acc: 0.0838 - val_loss: 4.1051 - val_acc: 0.0717\n",
      "28 22\n",
      "Train on 5022 samples, validate on 558 samples\n",
      "Epoch 1/1\n",
      " - 51s - loss: 4.4869 - acc: 0.0795 - val_loss: 4.1515 - val_acc: 0.0789\n",
      "28 23\n",
      "Train on 5022 samples, validate on 558 samples\n",
      "Epoch 1/1\n",
      " - 51s - loss: 4.4184 - acc: 0.0866 - val_loss: 4.0752 - val_acc: 0.1075\n",
      "28 24\n",
      "Train on 5022 samples, validate on 558 samples\n",
      "Epoch 1/1\n",
      " - 51s - loss: 4.4719 - acc: 0.0783 - val_loss: 4.0973 - val_acc: 0.1022\n",
      "28 25\n",
      "Train on 5022 samples, validate on 558 samples\n",
      "Epoch 1/1\n",
      " - 51s - loss: 4.4710 - acc: 0.0834 - val_loss: 4.0953 - val_acc: 0.0950\n",
      "28 26\n",
      "Train on 5022 samples, validate on 558 samples\n",
      "Epoch 1/1\n",
      " - 51s - loss: 4.4219 - acc: 0.0862 - val_loss: 4.0499 - val_acc: 0.1057\n",
      "28 27\n",
      "Train on 5022 samples, validate on 558 samples\n",
      "Epoch 1/1\n",
      " - 52s - loss: 4.4462 - acc: 0.0846 - val_loss: 4.0670 - val_acc: 0.0896\n",
      "28 28\n",
      "Train on 5022 samples, validate on 558 samples\n",
      "Epoch 1/1\n",
      " - 51s - loss: 4.4471 - acc: 0.0870 - val_loss: 4.0643 - val_acc: 0.0950\n",
      "28 29\n",
      "Train on 5022 samples, validate on 558 samples\n",
      "Epoch 1/1\n",
      " - 52s - loss: 4.5051 - acc: 0.0872 - val_loss: 4.1191 - val_acc: 0.1093\n",
      "29 21\n",
      "Train on 5022 samples, validate on 558 samples\n",
      "Epoch 1/1\n",
      " - 184s - loss: 4.5309 - acc: 0.0703 - val_loss: 4.1672 - val_acc: 0.0771\n",
      "29 22\n",
      "Train on 5022 samples, validate on 558 samples\n",
      "Epoch 1/1\n",
      " - 53s - loss: 4.4972 - acc: 0.0791 - val_loss: 4.1130 - val_acc: 0.0878\n",
      "29 23\n",
      "Train on 5022 samples, validate on 558 samples\n",
      "Epoch 1/1\n",
      " - 53s - loss: 4.4594 - acc: 0.0824 - val_loss: 4.0788 - val_acc: 0.1093\n",
      "29 24\n",
      "Train on 5022 samples, validate on 558 samples\n",
      "Epoch 1/1\n",
      " - 54s - loss: 4.4739 - acc: 0.0783 - val_loss: 4.1222 - val_acc: 0.1022\n",
      "29 25\n",
      "Train on 5022 samples, validate on 558 samples\n",
      "Epoch 1/1\n",
      " - 54s - loss: 4.4211 - acc: 0.0888 - val_loss: 4.0841 - val_acc: 0.0878\n",
      "29 26\n",
      "Train on 5022 samples, validate on 558 samples\n",
      "Epoch 1/1\n",
      " - 54s - loss: 4.4239 - acc: 0.0856 - val_loss: 4.0749 - val_acc: 0.1004\n",
      "29 27\n",
      "Train on 5022 samples, validate on 558 samples\n",
      "Epoch 1/1\n",
      " - 54s - loss: 4.4364 - acc: 0.0888 - val_loss: 4.0602 - val_acc: 0.0932\n",
      "29 28\n",
      "Train on 5022 samples, validate on 558 samples\n",
      "Epoch 1/1\n",
      " - 55s - loss: 4.4217 - acc: 0.0844 - val_loss: 4.0566 - val_acc: 0.0986\n",
      "29 29\n"
     ]
    }
   ],
   "source": [
    "for i in range(21, 30):\n",
    "    for j in range(21, 30):\n",
    "        model = Sequential()\n",
    "        model.add(Embedding(size + 1, i, input_length=6))\n",
    "        model.add(LSTM(j))\n",
    "        model.add(Dense(size, activation='softmax'))\n",
    "        model.compile(optimizer='adam',loss='sparse_categorical_crossentropy',metrics=['accuracy'])\n",
    "        model.fit(train_X, train_y, epochs=1, batch_size=1, verbose=2, validation_data=(test_X, test_y));\n",
    "        print (i, j)"
   ]
  },
  {
   "cell_type": "markdown",
   "metadata": {},
   "source": [
    "Возьмем параметры 26 29"
   ]
  },
  {
   "cell_type": "code",
   "execution_count": 24,
   "metadata": {},
   "outputs": [],
   "source": [
    "class PlotLearning(keras.callbacks.Callback):\n",
    "    def on_train_begin(self, logs={}):\n",
    "        self.i = 0\n",
    "        self.x = []\n",
    "        self.losses = []\n",
    "        self.val_losses = []\n",
    "        self.acc = []\n",
    "        self.val_acc = []\n",
    "        self.fig = plt.figure()\n",
    "        \n",
    "        self.logs = []\n",
    "\n",
    "    def on_epoch_end(self, epoch, logs={}):\n",
    "        \n",
    "        self.logs.append(logs)\n",
    "        self.x.append(self.i)\n",
    "        self.losses.append(logs.get('loss'))\n",
    "        self.val_losses.append(logs.get('val_loss'))\n",
    "        self.acc.append(logs.get('acc'))\n",
    "        self.val_acc.append(logs.get('val_acc'))\n",
    "        self.i += 1\n",
    "        f, (ax1, ax2) = plt.subplots(1, 2, sharex=True)\n",
    "        \n",
    "        clear_output(wait=True)\n",
    "        \n",
    "        ax1.set_yscale('log')\n",
    "        ax1.plot(self.x, self.losses, label=\"loss\")\n",
    "        ax1.plot(self.x, self.val_losses, label=\"val_loss\")\n",
    "        ax1.legend()\n",
    "        \n",
    "        ax2.plot(self.x, self.acc, label=\"accuracy\")\n",
    "        ax2.plot(self.x, self.val_acc, label=\"validation accuracy\")\n",
    "        ax2.legend()\n",
    "        \n",
    "        plt.show();\n",
    "        \n",
    "plot = PlotLearning()"
   ]
  },
  {
   "cell_type": "code",
   "execution_count": 25,
   "metadata": {},
   "outputs": [
    {
     "data": {
      "image/png": "[encoded data removed]",
      "text/plain": [
       "<matplotlib.figure.Figure at 0x7f80f8980eb8>"
      ]
     },
     "metadata": {},
     "output_type": "display_data"
    }
   ],
   "source": [
    "model = Sequential()\n",
    "model.add(Embedding(size + 1, 26, input_length=6))\n",
    "model.add(LSTM(29))\n",
    "model.add(Dense(size, activation='softmax'))\n",
    "model.compile(optimizer='adam',loss='sparse_categorical_crossentropy',metrics=['accuracy'])\n",
    "model.fit(train_X, train_y, epochs=39, batch_size=1, verbose=2, validation_data=(test_X, test_y), callbacks=[plot]);"
   ]
  },
  {
   "cell_type": "code",
   "execution_count": 26,
   "metadata": {},
   "outputs": [],
   "source": [
    "predicted_chords = np.array(test_X[:1])\n",
    "answer = test_X[0]\n",
    "\n",
    "for i in range(0, len(test_X)-1):\n",
    "    current_chord = (model.predict(predicted_chords[i:i+1])).argmax()\n",
    "    answer = np.append(answer, current_chord)\n",
    "    new_chords = predicted_chords[i][-5:]\n",
    "    new_chords = np.append(new_chords, current_chord)\n",
    "    predicted_chords = np.vstack((predicted_chords, new_chords))\n"
   ]
  },
  {
   "cell_type": "code",
   "execution_count": 27,
   "metadata": {},
   "outputs": [],
   "source": [
    "encoded_answer = []\n",
    "\n",
    "for chord in answer:\n",
    "    encoded_answer.append(unique_chords[chord])"
   ]
  },
  {
   "cell_type": "code",
   "execution_count": 31,
   "metadata": {},
   "outputs": [
    {
     "name": "stdout",
     "output_type": "stream",
     "text": [
      "[array([24., 29., 32.,  0.,  0.]), array([22., 26., 32.,  0.,  0.]), array([22., 26.,  0.,  0.,  0.]), array([22., 27., 31.,  0.,  0.]), array([22., 25., 28., 31.,  0.]), array([24., 27., 29., 33.,  0.]), array([22., 25., 29.,  0.,  0.]), array([22., 24., 25., 29.,  0.]), array([22., 25., 29.,  0.,  0.]), array([24., 29., 33.,  0.,  0.]), array([24., 27., 29., 33.,  0.]), array([22., 24., 29.,  0.,  0.]), array([24., 29., 33.,  0.,  0.]), array([24., 27., 31.,  0.,  0.]), array([22., 24., 27., 31.,  0.]), array([24., 26., 29., 31.,  0.]), array([24., 27., 29., 33.,  0.]), array([22., 26., 29.,  0.,  0.]), array([22., 26., 29.,  0.,  0.]), array([22., 27., 31.,  0.,  0.]), array([22., 27., 31., 32.,  0.]), array([22., 26., 29.,  0.,  0.]), array([22., 26., 29., 32.,  0.]), array([22., 27., 31.,  0.,  0.]), array([22., 27., 31.,  0.,  0.]), array([24., 27., 31.,  0.,  0.]), array([24., 27., 31., 33.,  0.]), array([22., 26., 29.,  0.,  0.]), array([24., 27., 33.,  0.,  0.]), array([22., 26., 29.,  0.,  0.]), array([22., 26., 27., 31.,  0.]), array([24., 29., 33.,  0.,  0.]), array([22., 26., 29.,  0.,  0.]), array([24., 29., 33.,  0.,  0.]), array([22., 26., 29.,  0.,  0.]), array([22., 26., 29.,  0.,  0.]), array([22., 26., 29.,  0.,  0.]), array([22., 26., 29., 33.,  0.]), array([22., 24., 28., 31.,  0.]), array([22., 26., 29.,  0.,  0.]), array([22., 26., 29.,  0.,  0.]), array([22., 26., 29.,  0.,  0.]), array([22., 26., 29.,  0.,  0.]), array([24., 29., 33.,  0.,  0.]), array([22., 26., 29.,  0.,  0.]), array([22., 26., 29.,  0.,  0.]), array([22., 27., 31.,  0.,  0.]), array([26., 29., 32.,  0.,  0.]), array([22., 27., 31.,  0.,  0.]), array([22., 26., 29.,  0.,  0.]), array([22., 26., 29.,  0.,  0.]), array([22., 27., 31.,  0.,  0.]), array([24., 27., 32.,  0.,  0.]), array([22., 26., 29.,  0.,  0.]), array([22., 26., 29., 32.,  0.]), array([22., 27., 31.,  0.,  0.]), array([22., 27., 31., 32.,  0.]), array([24., 27., 32.,  0.,  0.]), array([24., 27., 29., 32.,  0.]), array([22., 26., 29., 32.,  0.]), array([22., 27., 31.,  0.,  0.]), array([22., 25., 27., 31.,  0.]), array([24., 27., 32.,  0.,  0.]), array([25., 29., 32.,  0.,  0.]), array([24., 27., 31., 32.,  0.]), array([22., 25., 29.,  0.,  0.]), array([22., 25., 29., 31.,  0.]), array([24., 27., 32.,  0.,  0.]), array([22., 25., 29.,  0.,  0.]), array([22., 25., 29.,  0.,  0.]), array([22., 25., 31.,  0.,  0.]), array([22., 25., 29., 31.,  0.]), array([24., 28., 31.,  0.,  0.]), array([24., 29., 32.,  0.,  0.]), array([24., 29., 32.,  0.,  0.]), array([24., 28., 31.,  0.,  0.]), array([22., 24., 28., 31.,  0.]), array([24., 29., 32.,  0.,  0.]), array([24., 28., 31.,  0.,  0.]), array([24., 29., 32.,  0.,  0.]), array([24., 29., 31., 32.,  0.]), array([24., 29., 32.,  0.,  0.]), array([24., 28., 31.,  0.,  0.]), array([22., 24., 28., 31.,  0.]), array([24., 29., 32.,  0.,  0.]), array([24., 28., 31.,  0.,  0.]), array([24., 29., 32.,  0.,  0.]), array([24., 29., 31., 32.,  0.]), array([24., 29., 32.,  0.,  0.]), array([24., 28., 31.,  0.,  0.]), array([22., 24., 28., 31.,  0.]), array([24., 29., 32.,  0.,  0.]), array([24., 28., 31.,  0.,  0.]), array([24., 29., 32.,  0.,  0.]), array([24., 29., 31., 32.,  0.]), array([24., 29., 32.,  0.,  0.]), array([24., 28., 31.,  0.,  0.]), array([22., 24., 28., 31.,  0.]), array([24., 29., 32.,  0.,  0.]), array([24., 28., 31.,  0.,  0.]), array([24., 29., 32.,  0.,  0.]), array([24., 29., 31., 32.,  0.]), array([24., 29., 32.,  0.,  0.]), array([24., 28., 31.,  0.,  0.]), array([22., 24., 28., 31.,  0.]), array([24., 29., 32.,  0.,  0.]), array([24., 28., 31.,  0.,  0.]), array([24., 29., 32.,  0.,  0.]), array([24., 29., 31., 32.,  0.]), array([24., 29., 32.,  0.,  0.]), array([24., 28., 31.,  0.,  0.]), array([22., 24., 28., 31.,  0.]), array([24., 29., 32.,  0.,  0.]), array([24., 28., 31.,  0.,  0.]), array([24., 29., 32.,  0.,  0.]), array([24., 29., 31., 32.,  0.]), array([24., 29., 32.,  0.,  0.]), array([24., 28., 31.,  0.,  0.]), array([22., 24., 28., 31.,  0.]), array([24., 29., 32.,  0.,  0.]), array([24., 28., 31.,  0.,  0.]), array([24., 29., 32.,  0.,  0.]), array([24., 29., 31., 32.,  0.]), array([24., 29., 32.,  0.,  0.]), array([24., 28., 31.,  0.,  0.]), array([22., 24., 28., 31.,  0.]), array([24., 29., 32.,  0.,  0.]), array([24., 28., 31.,  0.,  0.]), array([24., 29., 32.,  0.,  0.]), array([24., 29., 31., 32.,  0.]), array([24., 29., 32.,  0.,  0.]), array([24., 28., 31.,  0.,  0.]), array([22., 24., 28., 31.,  0.]), array([24., 29., 32.,  0.,  0.]), array([24., 28., 31.,  0.,  0.]), array([24., 29., 32.,  0.,  0.]), array([24., 29., 31., 32.,  0.]), array([24., 29., 32.,  0.,  0.]), array([24., 28., 31.,  0.,  0.]), array([22., 24., 28., 31.,  0.]), array([24., 29., 32.,  0.,  0.]), array([24., 28., 31.,  0.,  0.]), array([24., 29., 32.,  0.,  0.]), array([24., 29., 31., 32.,  0.]), array([24., 29., 32.,  0.,  0.]), array([24., 28., 31.,  0.,  0.]), array([22., 24., 28., 31.,  0.]), array([24., 29., 32.,  0.,  0.]), array([24., 28., 31.,  0.,  0.]), array([24., 29., 32.,  0.,  0.]), array([24., 29., 31., 32.,  0.]), array([24., 29., 32.,  0.,  0.]), array([24., 28., 31.,  0.,  0.]), array([22., 24., 28., 31.,  0.]), array([24., 29., 32.,  0.,  0.]), array([24., 28., 31.,  0.,  0.]), array([24., 29., 32.,  0.,  0.]), array([24., 29., 31., 32.,  0.]), array([24., 29., 32.,  0.,  0.]), array([24., 28., 31.,  0.,  0.]), array([22., 24., 28., 31.,  0.]), array([24., 29., 32.,  0.,  0.]), array([24., 28., 31.,  0.,  0.]), array([24., 29., 32.,  0.,  0.]), array([24., 29., 31., 32.,  0.]), array([24., 29., 32.,  0.,  0.]), array([24., 28., 31.,  0.,  0.]), array([22., 24., 28., 31.,  0.]), array([24., 29., 32.,  0.,  0.]), array([24., 28., 31.,  0.,  0.]), array([24., 29., 32.,  0.,  0.]), array([24., 29., 31., 32.,  0.]), array([24., 29., 32.,  0.,  0.]), array([24., 28., 31.,  0.,  0.]), array([22., 24., 28., 31.,  0.]), array([24., 29., 32.,  0.,  0.]), array([24., 28., 31.,  0.,  0.]), array([24., 29., 32.,  0.,  0.]), array([24., 29., 31., 32.,  0.]), array([24., 29., 32.,  0.,  0.]), array([24., 28., 31.,  0.,  0.]), array([22., 24., 28., 31.,  0.]), array([24., 29., 32.,  0.,  0.]), array([24., 28., 31.,  0.,  0.]), array([24., 29., 32.,  0.,  0.]), array([24., 29., 31., 32.,  0.]), array([24., 29., 32.,  0.,  0.]), array([24., 28., 31.,  0.,  0.]), array([22., 24., 28., 31.,  0.]), array([24., 29., 32.,  0.,  0.]), array([24., 28., 31.,  0.,  0.]), array([24., 29., 32.,  0.,  0.]), array([24., 29., 31., 32.,  0.]), array([24., 29., 32.,  0.,  0.]), array([24., 28., 31.,  0.,  0.]), array([22., 24., 28., 31.,  0.]), array([24., 29., 32.,  0.,  0.]), array([24., 28., 31.,  0.,  0.]), array([24., 29., 32.,  0.,  0.]), array([24., 29., 31., 32.,  0.]), array([24., 29., 32.,  0.,  0.]), array([24., 28., 31.,  0.,  0.]), array([22., 24., 28., 31.,  0.]), array([24., 29., 32.,  0.,  0.]), array([24., 28., 31.,  0.,  0.]), array([24., 29., 32.,  0.,  0.]), array([24., 29., 31., 32.,  0.]), array([24., 29., 32.,  0.,  0.]), array([24., 28., 31.,  0.,  0.]), array([22., 24., 28., 31.,  0.]), array([24., 29., 32.,  0.,  0.]), array([24., 28., 31.,  0.,  0.]), array([24., 29., 32.,  0.,  0.]), array([24., 29., 31., 32.,  0.]), array([24., 29., 32.,  0.,  0.]), array([24., 28., 31.,  0.,  0.]), array([22., 24., 28., 31.,  0.]), array([24., 29., 32.,  0.,  0.]), array([24., 28., 31.,  0.,  0.]), array([24., 29., 32.,  0.,  0.]), array([24., 29., 31., 32.,  0.]), array([24., 29., 32.,  0.,  0.]), array([24., 28., 31.,  0.,  0.]), array([22., 24., 28., 31.,  0.]), array([24., 29., 32.,  0.,  0.]), array([24., 28., 31.,  0.,  0.]), array([24., 29., 32.,  0.,  0.]), array([24., 29., 31., 32.,  0.]), array([24., 29., 32.,  0.,  0.]), array([24., 28., 31.,  0.,  0.]), array([22., 24., 28., 31.,  0.]), array([24., 29., 32.,  0.,  0.]), array([24., 28., 31.,  0.,  0.]), array([24., 29., 32.,  0.,  0.]), array([24., 29., 31., 32.,  0.]), array([24., 29., 32.,  0.,  0.]), array([24., 28., 31.,  0.,  0.]), array([22., 24., 28., 31.,  0.]), array([24., 29., 32.,  0.,  0.]), array([24., 28., 31.,  0.,  0.]), array([24., 29., 32.,  0.,  0.]), array([24., 29., 31., 32.,  0.]), array([24., 29., 32.,  0.,  0.]), array([24., 28., 31.,  0.,  0.]), array([22., 24., 28., 31.,  0.]), array([24., 29., 32.,  0.,  0.]), array([24., 28., 31.,  0.,  0.]), array([24., 29., 32.,  0.,  0.]), array([24., 29., 31., 32.,  0.]), array([24., 29., 32.,  0.,  0.]), array([24., 28., 31.,  0.,  0.]), array([22., 24., 28., 31.,  0.]), array([24., 29., 32.,  0.,  0.]), array([24., 28., 31.,  0.,  0.]), array([24., 29., 32.,  0.,  0.]), array([24., 29., 31., 32.,  0.]), array([24., 29., 32.,  0.,  0.]), array([24., 28., 31.,  0.,  0.]), array([22., 24., 28., 31.,  0.]), array([24., 29., 32.,  0.,  0.]), array([24., 28., 31.,  0.,  0.]), array([24., 29., 32.,  0.,  0.]), array([24., 29., 31., 32.,  0.]), array([24., 29., 32.,  0.,  0.]), array([24., 28., 31.,  0.,  0.]), array([22., 24., 28., 31.,  0.]), array([24., 29., 32.,  0.,  0.]), array([24., 28., 31.,  0.,  0.]), array([24., 29., 32.,  0.,  0.]), array([24., 29., 31., 32.,  0.]), array([24., 29., 32.,  0.,  0.]), array([24., 28., 31.,  0.,  0.]), array([22., 24., 28., 31.,  0.]), array([24., 29., 32.,  0.,  0.]), array([24., 28., 31.,  0.,  0.]), array([24., 29., 32.,  0.,  0.]), array([24., 29., 31., 32.,  0.]), array([24., 29., 32.,  0.,  0.]), array([24., 28., 31.,  0.,  0.]), array([22., 24., 28., 31.,  0.]), array([24., 29., 32.,  0.,  0.]), array([24., 28., 31.,  0.,  0.]), array([24., 29., 32.,  0.,  0.]), array([24., 29., 31., 32.,  0.]), array([24., 29., 32.,  0.,  0.]), array([24., 28., 31.,  0.,  0.]), array([22., 24., 28., 31.,  0.]), array([24., 29., 32.,  0.,  0.]), array([24., 28., 31.,  0.,  0.]), array([24., 29., 32.,  0.,  0.]), array([24., 29., 31., 32.,  0.]), array([24., 29., 32.,  0.,  0.]), array([24., 28., 31.,  0.,  0.]), array([22., 24., 28., 31.,  0.]), array([24., 29., 32.,  0.,  0.]), array([24., 28., 31.,  0.,  0.]), array([24., 29., 32.,  0.,  0.]), array([24., 29., 31., 32.,  0.]), array([24., 29., 32.,  0.,  0.]), array([24., 28., 31.,  0.,  0.]), array([22., 24., 28., 31.,  0.]), array([24., 29., 32.,  0.,  0.]), array([24., 28., 31.,  0.,  0.]), array([24., 29., 32.,  0.,  0.]), array([24., 29., 31., 32.,  0.]), array([24., 29., 32.,  0.,  0.]), array([24., 28., 31.,  0.,  0.]), array([22., 24., 28., 31.,  0.]), array([24., 29., 32.,  0.,  0.]), array([24., 28., 31.,  0.,  0.]), array([24., 29., 32.,  0.,  0.]), array([24., 29., 31., 32.,  0.]), array([24., 29., 32.,  0.,  0.]), array([24., 28., 31.,  0.,  0.]), array([22., 24., 28., 31.,  0.]), array([24., 29., 32.,  0.,  0.]), array([24., 28., 31.,  0.,  0.]), array([24., 29., 32.,  0.,  0.]), array([24., 29., 31., 32.,  0.]), array([24., 29., 32.,  0.,  0.]), array([24., 28., 31.,  0.,  0.]), array([22., 24., 28., 31.,  0.]), array([24., 29., 32.,  0.,  0.]), array([24., 28., 31.,  0.,  0.]), array([24., 29., 32.,  0.,  0.]), array([24., 29., 31., 32.,  0.]), array([24., 29., 32.,  0.,  0.]), array([24., 28., 31.,  0.,  0.]), array([22., 24., 28., 31.,  0.]), array([24., 29., 32.,  0.,  0.]), array([24., 28., 31.,  0.,  0.]), array([24., 29., 32.,  0.,  0.]), array([24., 29., 31., 32.,  0.]), array([24., 29., 32.,  0.,  0.]), array([24., 28., 31.,  0.,  0.]), array([22., 24., 28., 31.,  0.]), array([24., 29., 32.,  0.,  0.]), array([24., 28., 31.,  0.,  0.]), array([24., 29., 32.,  0.,  0.]), array([24., 29., 31., 32.,  0.]), array([24., 29., 32.,  0.,  0.]), array([24., 28., 31.,  0.,  0.]), array([22., 24., 28., 31.,  0.]), array([24., 29., 32.,  0.,  0.]), array([24., 28., 31.,  0.,  0.]), array([24., 29., 32.,  0.,  0.]), array([24., 29., 31., 32.,  0.]), array([24., 29., 32.,  0.,  0.]), array([24., 28., 31.,  0.,  0.]), array([22., 24., 28., 31.,  0.]), array([24., 29., 32.,  0.,  0.]), array([24., 28., 31.,  0.,  0.]), array([24., 29., 32.,  0.,  0.]), array([24., 29., 31., 32.,  0.]), array([24., 29., 32.,  0.,  0.]), array([24., 28., 31.,  0.,  0.]), array([22., 24., 28., 31.,  0.]), array([24., 29., 32.,  0.,  0.]), array([24., 28., 31.,  0.,  0.]), array([24., 29., 32.,  0.,  0.]), array([24., 29., 31., 32.,  0.]), array([24., 29., 32.,  0.,  0.]), array([24., 28., 31.,  0.,  0.]), array([22., 24., 28., 31.,  0.]), array([24., 29., 32.,  0.,  0.]), array([24., 28., 31.,  0.,  0.]), array([24., 29., 32.,  0.,  0.]), array([24., 29., 31., 32.,  0.]), array([24., 29., 32.,  0.,  0.]), array([24., 28., 31.,  0.,  0.]), array([22., 24., 28., 31.,  0.]), array([24., 29., 32.,  0.,  0.]), array([24., 28., 31.,  0.,  0.]), array([24., 29., 32.,  0.,  0.]), array([24., 29., 31., 32.,  0.]), array([24., 29., 32.,  0.,  0.]), array([24., 28., 31.,  0.,  0.]), array([22., 24., 28., 31.,  0.]), array([24., 29., 32.,  0.,  0.]), array([24., 28., 31.,  0.,  0.]), array([24., 29., 32.,  0.,  0.]), array([24., 29., 31., 32.,  0.]), array([24., 29., 32.,  0.,  0.]), array([24., 28., 31.,  0.,  0.]), array([22., 24., 28., 31.,  0.]), array([24., 29., 32.,  0.,  0.]), array([24., 28., 31.,  0.,  0.]), array([24., 29., 32.,  0.,  0.]), array([24., 29., 31., 32.,  0.]), array([24., 29., 32.,  0.,  0.]), array([24., 28., 31.,  0.,  0.]), array([22., 24., 28., 31.,  0.]), array([24., 29., 32.,  0.,  0.]), array([24., 28., 31.,  0.,  0.]), array([24., 29., 32.,  0.,  0.]), array([24., 29., 31., 32.,  0.]), array([24., 29., 32.,  0.,  0.]), array([24., 28., 31.,  0.,  0.]), array([22., 24., 28., 31.,  0.]), array([24., 29., 32.,  0.,  0.]), array([24., 28., 31.,  0.,  0.]), array([24., 29., 32.,  0.,  0.]), array([24., 29., 31., 32.,  0.]), array([24., 29., 32.,  0.,  0.]), array([24., 28., 31.,  0.,  0.]), array([22., 24., 28., 31.,  0.]), array([24., 29., 32.,  0.,  0.]), array([24., 28., 31.,  0.,  0.]), array([24., 29., 32.,  0.,  0.]), array([24., 29., 31., 32.,  0.]), array([24., 29., 32.,  0.,  0.]), array([24., 28., 31.,  0.,  0.]), array([22., 24., 28., 31.,  0.]), array([24., 29., 32.,  0.,  0.]), array([24., 28., 31.,  0.,  0.]), array([24., 29., 32.,  0.,  0.]), array([24., 29., 31., 32.,  0.]), array([24., 29., 32.,  0.,  0.]), array([24., 28., 31.,  0.,  0.]), array([22., 24., 28., 31.,  0.]), array([24., 29., 32.,  0.,  0.]), array([24., 28., 31.,  0.,  0.]), array([24., 29., 32.,  0.,  0.]), array([24., 29., 31., 32.,  0.]), array([24., 29., 32.,  0.,  0.]), array([24., 28., 31.,  0.,  0.]), array([22., 24., 28., 31.,  0.]), array([24., 29., 32.,  0.,  0.]), array([24., 28., 31.,  0.,  0.]), array([24., 29., 32.,  0.,  0.]), array([24., 29., 31., 32.,  0.]), array([24., 29., 32.,  0.,  0.]), array([24., 28., 31.,  0.,  0.]), array([22., 24., 28., 31.,  0.]), array([24., 29., 32.,  0.,  0.]), array([24., 28., 31.,  0.,  0.]), array([24., 29., 32.,  0.,  0.]), array([24., 29., 31., 32.,  0.]), array([24., 29., 32.,  0.,  0.]), array([24., 28., 31.,  0.,  0.]), array([22., 24., 28., 31.,  0.]), array([24., 29., 32.,  0.,  0.]), array([24., 28., 31.,  0.,  0.]), array([24., 29., 32.,  0.,  0.]), array([24., 29., 31., 32.,  0.]), array([24., 29., 32.,  0.,  0.]), array([24., 28., 31.,  0.,  0.]), array([22., 24., 28., 31.,  0.]), array([24., 29., 32.,  0.,  0.]), array([24., 28., 31.,  0.,  0.]), array([24., 29., 32.,  0.,  0.]), array([24., 29., 31., 32.,  0.]), array([24., 29., 32.,  0.,  0.]), array([24., 28., 31.,  0.,  0.]), array([22., 24., 28., 31.,  0.]), array([24., 29., 32.,  0.,  0.]), array([24., 28., 31.,  0.,  0.]), array([24., 29., 32.,  0.,  0.]), array([24., 29., 31., 32.,  0.]), array([24., 29., 32.,  0.,  0.]), array([24., 28., 31.,  0.,  0.]), array([22., 24., 28., 31.,  0.]), array([24., 29., 32.,  0.,  0.]), array([24., 28., 31.,  0.,  0.]), array([24., 29., 32.,  0.,  0.]), array([24., 29., 31., 32.,  0.]), array([24., 29., 32.,  0.,  0.]), array([24., 28., 31.,  0.,  0.]), array([22., 24., 28., 31.,  0.]), array([24., 29., 32.,  0.,  0.]), array([24., 28., 31.,  0.,  0.]), array([24., 29., 32.,  0.,  0.]), array([24., 29., 31., 32.,  0.]), array([24., 29., 32.,  0.,  0.]), array([24., 28., 31.,  0.,  0.]), array([22., 24., 28., 31.,  0.]), array([24., 29., 32.,  0.,  0.]), array([24., 28., 31.,  0.,  0.]), array([24., 29., 32.,  0.,  0.]), array([24., 29., 31., 32.,  0.]), array([24., 29., 32.,  0.,  0.]), array([24., 28., 31.,  0.,  0.]), array([22., 24., 28., 31.,  0.]), array([24., 29., 32.,  0.,  0.]), array([24., 28., 31.,  0.,  0.]), array([24., 29., 32.,  0.,  0.]), array([24., 29., 31., 32.,  0.]), array([24., 29., 32.,  0.,  0.]), array([24., 28., 31.,  0.,  0.]), array([22., 24., 28., 31.,  0.]), array([24., 29., 32.,  0.,  0.]), array([24., 28., 31.,  0.,  0.]), array([24., 29., 32.,  0.,  0.]), array([24., 29., 31., 32.,  0.]), array([24., 29., 32.,  0.,  0.]), array([24., 28., 31.,  0.,  0.]), array([22., 24., 28., 31.,  0.]), array([24., 29., 32.,  0.,  0.]), array([24., 28., 31.,  0.,  0.]), array([24., 29., 32.,  0.,  0.]), array([24., 29., 31., 32.,  0.]), array([24., 29., 32.,  0.,  0.]), array([24., 28., 31.,  0.,  0.]), array([22., 24., 28., 31.,  0.]), array([24., 29., 32.,  0.,  0.]), array([24., 28., 31.,  0.,  0.]), array([24., 29., 32.,  0.,  0.]), array([24., 29., 31., 32.,  0.]), array([24., 29., 32.,  0.,  0.]), array([24., 28., 31.,  0.,  0.]), array([22., 24., 28., 31.,  0.]), array([24., 29., 32.,  0.,  0.]), array([24., 28., 31.,  0.,  0.]), array([24., 29., 32.,  0.,  0.]), array([24., 29., 31., 32.,  0.]), array([24., 29., 32.,  0.,  0.]), array([24., 28., 31.,  0.,  0.]), array([22., 24., 28., 31.,  0.]), array([24., 29., 32.,  0.,  0.]), array([24., 28., 31.,  0.,  0.]), array([24., 29., 32.,  0.,  0.]), array([24., 29., 31., 32.,  0.]), array([24., 29., 32.,  0.,  0.]), array([24., 28., 31.,  0.,  0.]), array([22., 24., 28., 31.,  0.]), array([24., 29., 32.,  0.,  0.]), array([24., 28., 31.,  0.,  0.]), array([24., 29., 32.,  0.,  0.]), array([24., 29., 31., 32.,  0.]), array([24., 29., 32.,  0.,  0.]), array([24., 28., 31.,  0.,  0.]), array([22., 24., 28., 31.,  0.]), array([24., 29., 32.,  0.,  0.]), array([24., 28., 31.,  0.,  0.]), array([24., 29., 32.,  0.,  0.]), array([24., 29., 31., 32.,  0.]), array([24., 29., 32.,  0.,  0.]), array([24., 28., 31.,  0.,  0.]), array([22., 24., 28., 31.,  0.]), array([24., 29., 32.,  0.,  0.]), array([24., 28., 31.,  0.,  0.]), array([24., 29., 32.,  0.,  0.]), array([24., 29., 31., 32.,  0.]), array([24., 29., 32.,  0.,  0.]), array([24., 28., 31.,  0.,  0.]), array([22., 24., 28., 31.,  0.]), array([24., 29., 32.,  0.,  0.]), array([24., 28., 31.,  0.,  0.]), array([24., 29., 32.,  0.,  0.]), array([24., 29., 31., 32.,  0.]), array([24., 29., 32.,  0.,  0.]), array([24., 28., 31.,  0.,  0.]), array([22., 24., 28., 31.,  0.]), array([24., 29., 32.,  0.,  0.]), array([24., 28., 31.,  0.,  0.]), array([24., 29., 32.,  0.,  0.]), array([24., 29., 31., 32.,  0.]), array([24., 29., 32.,  0.,  0.]), array([24., 28., 31.,  0.,  0.]), array([22., 24., 28., 31.,  0.]), array([24., 29., 32.,  0.,  0.]), array([24., 28., 31.,  0.,  0.]), array([24., 29., 32.,  0.,  0.])]\n"
     ]
    }
   ],
   "source": [
    "print(encoded_answer)"
   ]
  },
  {
   "cell_type": "code",
   "execution_count": 36,
   "metadata": {},
   "outputs": [],
   "source": [
    "chords = []\n",
    "\n",
    "for encoded_chord in encoded_answer:\n",
    "    notes = []\n",
    "    for encoded_note in encoded_chord:\n",
    "        if encoded_note != 0.:\n",
    "            note = structures.Note(int(encoded_note) + 50)\n",
    "            notes.append(note)\n",
    "    chord = structures.Chord(notes, 32, 127)\n",
    "    chords.append(chord)\n",
    "    \n",
    "track = [structures.Track(chords=chords)]\n",
    "song = structures.Song(tracks=track)"
   ]
  },
  {
   "cell_type": "code",
   "execution_count": 37,
   "metadata": {
    "scrolled": true
   },
   "outputs": [],
   "source": [
    "song.save(\"bach\")"
   ]
  },
  {
   "cell_type": "code",
   "execution_count": null,
   "metadata": {},
   "outputs": [],
   "source": []
  }
 ],
 "metadata": {
  "kernelspec": {
   "display_name": "Python 3",
   "language": "python",
   "name": "python3"
  },
  "language_info": {
   "codemirror_mode": {
    "name": "ipython",
    "version": 3
   },
   "file_extension": ".py",
   "mimetype": "text/x-python",
   "name": "python",
   "nbconvert_exporter": "python",
   "pygments_lexer": "ipython3",
   "version": "3.6.0"
  }
 },
 "nbformat": 4,
 "nbformat_minor": 2
}
